{
 "cells": [
  {
   "cell_type": "markdown",
   "metadata": {},
   "source": [
    "# 光学实用转化代码"
   ]
  },
  {
   "cell_type": "code",
   "execution_count": 2,
   "metadata": {},
   "outputs": [],
   "source": [
    "import numpy as np"
   ]
  },
  {
   "cell_type": "markdown",
   "metadata": {},
   "source": [
    "## dB与功率比转化"
   ]
  },
  {
   "cell_type": "code",
   "execution_count": 3,
   "metadata": {},
   "outputs": [
    {
     "name": "stdout",
     "output_type": "stream",
     "text": [
      "转化为dB的值 =  [-9.54242509]\n",
      "转化为功率比 =  [0.01]\n"
     ]
    }
   ],
   "source": [
    "# 输入参考功率\n",
    "power_ref = np.array([1])\n",
    "# 输入实际功率\n",
    "power_in = np.array([1/9])\n",
    "# 输入dB\n",
    "dB_in = np.array([-20])\n",
    "# 功率比转化为dB\n",
    "dB = 10 * np.log10(power_in / power_ref)\n",
    "# dB转化为功率比\n",
    "power = np.power(10, dB_in / 10)\n",
    "# 输出结果\n",
    "print(\"转化为dB的值 = \", dB)\n",
    "print(\"转化为功率比 = \", power)"
   ]
  },
  {
   "cell_type": "markdown",
   "metadata": {},
   "source": [
    "## dBm与功率转化"
   ]
  },
  {
   "cell_type": "code",
   "execution_count": 10,
   "metadata": {},
   "outputs": [
    {
     "name": "stdout",
     "output_type": "stream",
     "text": [
      "转化为dBm的值 =  [-2.54242509]\n",
      "转化为功率的值 = [5.01187234]mW\n"
     ]
    }
   ],
   "source": [
    "# 输入功率\n",
    "power_in = np.array([0.0005568747044444444])\n",
    "# 输入dBm\n",
    "dBm_in = np.array([7])\n",
    "# 计算dBm\n",
    "dBm = 10 * np.log10(power_in / 1e-3)\n",
    "# 计算功率\n",
    "power = np.power(10, dBm_in / 10)\n",
    "# 输出结果\n",
    "print(\"转化为dBm的值 = \", dBm)\n",
    "print(f\"转化为功率的值 = {power}mW\")"
   ]
  },
  {
   "cell_type": "code",
   "execution_count": 7,
   "metadata": {},
   "outputs": [
    {
     "data": {
      "text/plain": [
       "0.5568747044444444"
      ]
     },
     "execution_count": 7,
     "metadata": {},
     "output_type": "execute_result"
    }
   ],
   "source": [
    "5.01187234 / 9"
   ]
  },
  {
   "cell_type": "markdown",
   "metadata": {},
   "source": [
    "## 频率与波长转化"
   ]
  },
  {
   "cell_type": "code",
   "execution_count": 5,
   "metadata": {},
   "outputs": [
    {
     "name": "stdout",
     "output_type": "stream",
     "text": [
      "转化为波长 = [2.99792458e-06 2.72538598e-06 2.49827048e-06 2.30609583e-06]\n",
      "转化为频率 = [1.93414492e+14 1.93414489e+14 1.93414487e+14]\n"
     ]
    }
   ],
   "source": [
    "# 光的频率\n",
    "f_in = np.array([1e14, 1.1e14, 1.2e14, 1.3e14])\n",
    "# 光的波长\n",
    "light_lambda_in = np.array([1550e-9-20e-15, 1550e-9, 1550e-9+20e-15])\n",
    "# 真空光速\n",
    "c = 299792458\n",
    "# 波长转化\n",
    "light_lambda = c / f_in\n",
    "print(f\"转化为波长 = {light_lambda}\")\n",
    "# 频率转化\n",
    "f = c / light_lambda_in\n",
    "print(f\"转化为频率 = {f}\")"
   ]
  }
 ],
 "metadata": {
  "kernelspec": {
   "display_name": "base",
   "language": "python",
   "name": "python3"
  },
  "language_info": {
   "codemirror_mode": {
    "name": "ipython",
    "version": 3
   },
   "file_extension": ".py",
   "mimetype": "text/x-python",
   "name": "python",
   "nbconvert_exporter": "python",
   "pygments_lexer": "ipython3",
   "version": "3.11.5"
  }
 },
 "nbformat": 4,
 "nbformat_minor": 2
}
