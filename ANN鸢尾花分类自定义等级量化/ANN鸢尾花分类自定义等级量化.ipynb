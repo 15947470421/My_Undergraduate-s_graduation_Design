{
 "cells": [
  {
   "cell_type": "markdown",
   "id": "a9d82a50-c896-429b-947b-645b0ddb70e8",
   "metadata": {},
   "source": [
    "# ANN鸢尾花分类自定义等级量化\n",
    "\n",
    "代码说明：使用ANN网络进行鸢尾花数据集分类并进行自定义等级量化\n",
    "\n",
    "作者：复旦大学 微电子学院 赵振宇"
   ]
  },
  {
   "cell_type": "code",
   "execution_count": 13,
   "id": "0b370fac-1518-409b-8fd6-65eb0d7bfb76",
   "metadata": {},
   "outputs": [],
   "source": [
    "# 引入库\n",
    "import torch\n",
    "from torch import nn\n",
    "import torch.nn.functional as F\n",
    "from torch.utils.data import Dataset, DataLoader\n",
    "import matplotlib.pyplot as plt\n",
    "from PIL import Image\n",
    "import numpy as np\n",
    "from torchsummary import summary # 用于预览神经网络结构的库\n",
    "import time\n",
    "import csv"
   ]
  },
  {
   "cell_type": "code",
   "execution_count": 14,
   "id": "611dc5cd",
   "metadata": {},
   "outputs": [
    {
     "name": "stdout",
     "output_type": "stream",
     "text": [
      "device: cuda:0\n"
     ]
    }
   ],
   "source": [
    "# 配置基本信息\n",
    "# 配置运行硬件平台\n",
    "device = torch.device(\"cuda:0\" if torch.cuda.is_available() else \"cpu\")\n",
    "print(f\"device: {device}\")\n",
    "# 指定数据集地址\n",
    "dataset_dir = \"./dataset\" # 数据集地址\n",
    "# 指定数据集的batch_size\n",
    "batch_size = 30\n",
    "# 设定自动保存模型的地址\n",
    "model_auto_save_dir = \"./model_save/auto_save/\"\n",
    "# 设定手动保存模型的地址\n",
    "model_history_save_dir = \"./model_save/history_save/\"\n",
    "# 设定外部图片地址\n",
    "# 请务必确保对应文件夹中有该图片\n",
    "img_path = \"./dataset/images1.jpg\"\n",
    "# jupyter输出不打印省略号\n",
    "torch.set_printoptions(threshold=np.inf)"
   ]
  },
  {
   "cell_type": "code",
   "execution_count": 26,
   "id": "6f83ea5f",
   "metadata": {},
   "outputs": [
    {
     "name": "stdout",
     "output_type": "stream",
     "text": [
      "120\n",
      "30\n"
     ]
    }
   ],
   "source": [
    "# 将鸢尾花数据集转换为DataLoader\n",
    "# 自定义 Dataset 类\n",
    "class IrisDataset(Dataset):\n",
    "    def __init__(self, csv_file, transform=None):\n",
    "        self.features = []\n",
    "        self.labels = []\n",
    "        self.transform = transform\n",
    "        \n",
    "        # 读取 CSV 文件\n",
    "        with open(csv_file, 'r') as f:\n",
    "            reader = csv.reader(f)\n",
    "            next(reader)  # 跳过表头\n",
    "            for row in reader:\n",
    "                # 前四列为特征，最后一列为标签\n",
    "                feature = list(map(float, row[:-1]))\n",
    "                label = row[-1]\n",
    "                # 将标签转换为数值\n",
    "                if label == 'setosa':\n",
    "                    label = 0\n",
    "                elif label == 'versicolor':\n",
    "                    label = 1\n",
    "                elif label == 'virginica':\n",
    "                    label = 2\n",
    "                else:\n",
    "                    raise ValueError(f\"未知的标签: {label}\")\n",
    "                self.features.append(feature)\n",
    "                self.labels.append(label)\n",
    "        \n",
    "        # 转换为张量\n",
    "        self.features = torch.FloatTensor(self.features)\n",
    "        self.labels = torch.tensor(self.labels, dtype=torch.int64)\n",
    "\n",
    "        # 将特征值归一化\n",
    "        self.features = F.normalize(self.features, p=float('inf'), dim=1)\n",
    "    \n",
    "    \n",
    "    def __len__(self):\n",
    "        return len(self.features)\n",
    "    \n",
    "    def __getitem__(self, idx):\n",
    "        # 返回特征和标签\n",
    "        return self.features[idx], self.labels[idx]\n",
    "\n",
    "\n",
    "# 设置文件路径\n",
    "train_csv_path = \"./dataset/iris_train.csv\" # 替换为你的训练集 CSV 文件路径\n",
    "test_csv_path = \"./dataset/iris_test.csv\"    # 替换为你的测试集 CSV 文件路径\n",
    "\n",
    "# 创建 Dataset\n",
    "train_dataset = IrisDataset(train_csv_path)\n",
    "test_dataset = IrisDataset(test_csv_path)\n",
    "\n",
    "# 打印训练数据集长度\n",
    "train_dataset_size = len(train_dataset)\n",
    "print(train_dataset_size)\n",
    "# 打印测试数据集长度\n",
    "test_dataset_size = len(test_dataset)\n",
    "print(test_dataset_size)\n",
    "\n",
    "# 创建 DataLoader\n",
    "train_dataloader = DataLoader(train_dataset, batch_size=batch_size, shuffle=True)\n",
    "test_dataloader = DataLoader(test_dataset, batch_size=batch_size, shuffle=False)"
   ]
  },
  {
   "cell_type": "code",
   "execution_count": 27,
   "id": "db981278",
   "metadata": {},
   "outputs": [
    {
     "name": "stdout",
     "output_type": "stream",
     "text": [
      "inputs = tensor([[1.0000, 0.7000, 0.2600, 0.0600],\n",
      "        [1.0000, 0.5111, 0.2889, 0.0667],\n",
      "        [1.0000, 0.7273, 0.2955, 0.0455],\n",
      "        [1.0000, 0.7000, 0.3200, 0.1200],\n",
      "        [1.0000, 0.7451, 0.3725, 0.0784],\n",
      "        [1.0000, 0.6250, 0.2917, 0.0625],\n",
      "        [1.0000, 0.7451, 0.3137, 0.0392],\n",
      "        [1.0000, 0.6957, 0.3043, 0.0435],\n",
      "        [1.0000, 0.6981, 0.2830, 0.0377],\n",
      "        [1.0000, 0.6600, 0.2800, 0.0400],\n",
      "        [1.0000, 0.4727, 0.8000, 0.2182],\n",
      "        [1.0000, 0.4918, 0.7541, 0.2295],\n",
      "        [1.0000, 0.4483, 0.6897, 0.2069],\n",
      "        [1.0000, 0.4600, 0.6600, 0.2000],\n",
      "        [1.0000, 0.4821, 0.7500, 0.2321],\n",
      "        [1.0000, 0.5263, 0.7368, 0.2105],\n",
      "        [1.0000, 0.5088, 0.7368, 0.2281],\n",
      "        [1.0000, 0.4677, 0.6935, 0.2097],\n",
      "        [1.0000, 0.4902, 0.5882, 0.2157],\n",
      "        [1.0000, 0.4912, 0.7193, 0.2281],\n",
      "        [1.0000, 0.4627, 0.8358, 0.3582],\n",
      "        [1.0000, 0.4493, 0.7391, 0.3333],\n",
      "        [1.0000, 0.4655, 0.8793, 0.3276],\n",
      "        [1.0000, 0.4706, 0.8676, 0.3382],\n",
      "        [1.0000, 0.4925, 0.8507, 0.3731],\n",
      "        [1.0000, 0.4478, 0.7761, 0.3433],\n",
      "        [1.0000, 0.3968, 0.7937, 0.3016],\n",
      "        [1.0000, 0.4615, 0.8000, 0.3077],\n",
      "        [1.0000, 0.5484, 0.8710, 0.3710],\n",
      "        [1.0000, 0.5085, 0.8644, 0.3051]], device='cuda:0')\n"
     ]
    }
   ],
   "source": [
    "# DataLoader测试\n",
    "for data in test_dataloader:\n",
    "    inputs, labels = data\n",
    "    inputs = inputs.to(device)\n",
    "    labels = labels.to(device)\n",
    "\n",
    "    print(f\"inputs = {inputs}\")\n",
    "    # print(f\"labels = {labels}\")"
   ]
  },
  {
   "cell_type": "code",
   "execution_count": 28,
   "id": "2fee2ffe",
   "metadata": {},
   "outputs": [
    {
     "name": "stdout",
     "output_type": "stream",
     "text": [
      "神经网络信息\n",
      "Net(\n",
      "  (hidden): Linear(in_features=4, out_features=4, bias=False)\n",
      "  (relu): ReLU()\n",
      "  (output): Linear(in_features=4, out_features=3, bias=False)\n",
      ")\n",
      "输入数据格式 torch.Size([4])\n",
      "输出数据格式 torch.Size([3])\n",
      "----------------------------------------------------------------\n",
      "        Layer (type)               Output Shape         Param #\n",
      "================================================================\n",
      "            Linear-1                 [-1, 1, 4]              16\n",
      "              ReLU-2                 [-1, 1, 4]               0\n",
      "            Linear-3                 [-1, 1, 3]              12\n",
      "================================================================\n",
      "Total params: 28\n",
      "Trainable params: 28\n",
      "Non-trainable params: 0\n",
      "----------------------------------------------------------------\n",
      "Input size (MB): 0.00\n",
      "Forward/backward pass size (MB): 0.00\n",
      "Params size (MB): 0.00\n",
      "Estimated Total Size (MB): 0.00\n",
      "----------------------------------------------------------------\n"
     ]
    }
   ],
   "source": [
    "# 定义网络架构\n",
    "class Net(nn.Module):\n",
    "    def __init__(self, n_input, n_hidden, n_output):\n",
    "        super(Net, self).__init__()\n",
    "        self.hidden = nn.Linear(n_input, n_hidden, bias=False)\n",
    "        self.relu = nn.ReLU()\n",
    "        self.output = nn.Linear(n_hidden, n_output, bias=False)\n",
    "\n",
    "    def forward(self, x):\n",
    "        x = self.hidden(x)\n",
    "        x = self.relu(x)\n",
    "        x = self.output(x)\n",
    "        return x\n",
    "    \n",
    "# 实例化神经网络\n",
    "net = Net(n_input=4, n_hidden=4, n_output=3)\n",
    "net = net.to(device) # 将神经网络转换\n",
    "# 加载之前训练过的网络\n",
    "# net = torch.load(\"net_CIFAR10.pth\")\n",
    "\n",
    "# 打印神经网络信息\n",
    "print(\"神经网络信息\")\n",
    "print(net)\n",
    "\n",
    "# 测试神经网络的输出格式\n",
    "# 设置满足要求的输入\n",
    "input = torch.ones([4])\n",
    "input = input.to(device)\n",
    "print(\"输入数据格式\", input.shape)\n",
    "\n",
    "output = net(input)\n",
    "print(\"输出数据格式\", output.shape)\n",
    "\n",
    "# 查看神经网络模型大小\n",
    "summary(net, input_size=[[1, 4]])"
   ]
  },
  {
   "cell_type": "code",
   "execution_count": 29,
   "id": "2113b8e4",
   "metadata": {},
   "outputs": [],
   "source": [
    "# 设置神经网络超参数\n",
    "# 设置损失函数\n",
    "loss_fn = nn.CrossEntropyLoss()\n",
    "loss_fn = loss_fn.to(device) # 将损失函数转换\n",
    "\n",
    "# 设置优化器\n",
    "learning_rate = 0.01 # 设置学习率\n",
    "lambda_val = 0.0 # 设置正则化系数Lambda\n",
    "optim = torch.optim.Adam(net.parameters(), lr=learning_rate, weight_decay=lambda_val)"
   ]
  },
  {
   "cell_type": "code",
   "execution_count": 30,
   "id": "8d3b95fb",
   "metadata": {},
   "outputs": [],
   "source": [
    "# 设定训练轮数\n",
    "epoch = 500\n",
    "epoch_show = 50 # 每epoch_show次展示输出结果\n",
    "# 定义训练集loss以及准确率变量\n",
    "loss_train = 0.0 # 训练损失值\n",
    "loss_train_sum = 0.0 # 训练损失值累加值\n",
    "loss_train_mean = 0.0 # 这一轮训练损失值的平均值\n",
    "loss_train_store = np.zeros(epoch) # 训练损失值存储数组\n",
    "accuracy_train = 0 # 训练准确数\n",
    "accuracy_rate_train = 0.0 # 训练准确率\n",
    "accuracy_rate_train_max = 0.0 # 最大训练准确率\n",
    "accuracy_rate_train_store = np.zeros(epoch) # 训练准确率存储素数组\n",
    "# 定义交叉验证集loss以及准确率变量\n",
    "loss_cv = 0.0 # 验证损失值\n",
    "loss_cv_sum = 0.0 # 验证损失值累加值\n",
    "loss_cv_mean = 0.0 # 这一轮验证损失值的平均值\n",
    "loss_cv_store = np.zeros(epoch) # 验证损失值存储数组\n",
    "accuracy_cv = 0 # 验证准确数\n",
    "accuracy_rate_cv = 0.0 # 验证准确率\n",
    "accuracy_rate_cv_max = 0.0 # 最大验证准确率\n",
    "accuracy_rate_cv_store = np.zeros(epoch) # 验证准确率存储素数组"
   ]
  },
  {
   "cell_type": "code",
   "execution_count": 31,
   "id": "3df6a176",
   "metadata": {},
   "outputs": [
    {
     "name": "stdout",
     "output_type": "stream",
     "text": [
      "-----------第0轮训练开始------------\n",
      "loss train: 1.16117, accuracy rate train: 32.50000%, loss cv: 1.14671, accuracy rate cv: 33.33334%\n",
      "-----------第50轮训练开始------------\n",
      "loss train: 0.41139, accuracy rate train: 93.33334%, loss cv: 0.39817, accuracy rate cv: 96.66667%\n",
      "-----------第100轮训练开始------------\n",
      "loss train: 0.21239, accuracy rate train: 95.83334%, loss cv: 0.16516, accuracy rate cv: 100.00000%\n",
      "-----------第150轮训练开始------------\n",
      "loss train: 0.14731, accuracy rate train: 95.83334%, loss cv: 0.08464, accuracy rate cv: 100.00000%\n",
      "-----------第200轮训练开始------------\n",
      "loss train: 0.12303, accuracy rate train: 95.83334%, loss cv: 0.05208, accuracy rate cv: 100.00000%\n",
      "-----------第250轮训练开始------------\n",
      "loss train: 0.11089, accuracy rate train: 95.83334%, loss cv: 0.03730, accuracy rate cv: 100.00000%\n",
      "-----------第300轮训练开始------------\n",
      "loss train: 0.10449, accuracy rate train: 95.00001%, loss cv: 0.02919, accuracy rate cv: 100.00000%\n",
      "-----------第350轮训练开始------------\n",
      "loss train: 0.09955, accuracy rate train: 95.00001%, loss cv: 0.02448, accuracy rate cv: 100.00000%\n",
      "-----------第400轮训练开始------------\n",
      "loss train: 0.09725, accuracy rate train: 95.00001%, loss cv: 0.02001, accuracy rate cv: 100.00000%\n",
      "-----------第450轮训练开始------------\n",
      "loss train: 0.09625, accuracy rate train: 94.16667%, loss cv: 0.01761, accuracy rate cv: 100.00000%\n",
      "-------------------------------训练完成-------------------------------\n"
     ]
    }
   ],
   "source": [
    "# 训练网络\n",
    "\n",
    "#########################开始训练########################\n",
    "for i in range(epoch):\n",
    "    if(i % epoch_show == 0): # 每epoch_show次输出\n",
    "        print(\"-----------第%d轮训练开始------------\" %i)\n",
    "    # 每轮loss累加值清零\n",
    "    loss_train_sum = 0\n",
    "    loss_cv_sum = 0\n",
    "    # 开始训练神经网络\n",
    "    net.train()\n",
    "    # 这一轮的训练计数\n",
    "    train_step = 0\n",
    "    # 准确性变量清零\n",
    "    accuracy_train = 0\n",
    "    \n",
    "    for data in train_dataloader:\n",
    "        inputs, labels = data\n",
    "        inputs = inputs.to(device)\n",
    "        labels = labels.to(device)\n",
    "\n",
    "\t\t# 输入神经网络并运行\n",
    "        output = net(inputs)\n",
    "\n",
    "\t\t# 计算损失函数\n",
    "        loss_train = loss_fn(output, labels)\n",
    "        # 累加损失函数\n",
    "        loss_train_sum += loss_train.item()\n",
    "        # 将分类概率转化为对应标签\n",
    "        pred_label = output.argmax(1)\n",
    "        # 累加计算结果准确性\n",
    "        accuracy_train += (pred_label == labels).sum()\n",
    "        # 清零优化器的累计梯度\n",
    "        optim.zero_grad()\n",
    "        # 计算梯度\n",
    "        loss_train.backward()\n",
    "        # 优化器开始优化\n",
    "        optim.step()\n",
    "    \n",
    "    # 计算训练集损失函数loss train\n",
    "    loss_train_mean = loss_train_sum / (train_dataset_size/batch_size)\n",
    "    loss_train_store[i] = loss_train_mean\n",
    "    # 计算训练集准确率\n",
    "    accuracy_rate_train = (accuracy_train/train_dataset_size) * 100\n",
    "    accuracy_rate_train_store[i] = accuracy_rate_train\n",
    "    \n",
    "    \n",
    "    # 开始测试神经网络\n",
    "    net.eval()\n",
    "    # 总测试次数\n",
    "    test_step = 0\n",
    "    # 准确性变量清零\n",
    "    accuracy_cv = 0\n",
    "    with torch.no_grad(): # 预测阶段不进行梯度下降\n",
    "        for data in test_dataloader:\n",
    "            inputs, labels = data\n",
    "            inputs = inputs.to(device)\n",
    "            labels = labels.to(device)\n",
    "\n",
    "            # 输入神经网络并运行\n",
    "            output = net(inputs)\n",
    "            # 计算损失函数\n",
    "            loss_cv = loss_fn(output, labels)\n",
    "            # 累加损失函数\n",
    "            loss_cv_sum += loss_cv.item()\n",
    "            # 将分类概率转化为对应标签\n",
    "            pred_label = output.argmax(1)\n",
    "            # 累加计算结果准确性\n",
    "            accuracy_cv += (pred_label == labels).sum()\n",
    "            test_step += 1\n",
    "\n",
    "    # 计算交叉验证集损失函数loss cv\n",
    "    loss_cv_mean = loss_cv_sum / (test_dataset_size/batch_size)\n",
    "    loss_cv_store[i] = loss_cv_mean\n",
    "    # 计算交叉验证集准确率\n",
    "    accuracy_rate_cv = (accuracy_cv/test_dataset_size) * 100\n",
    "    accuracy_rate_cv_store[i] = accuracy_rate_cv\n",
    "\n",
    "    # 输出该轮训练结果\n",
    "    if(i % epoch_show == 0): # 每50次输出\n",
    "        print(\"loss train: %.5f, accuracy rate train: %.5f%%, loss cv: %.5f, accuracy rate cv: %.5f%%\" %(loss_train_mean, accuracy_rate_train.item(), loss_cv_mean, accuracy_rate_cv.item()))\n",
    "    # 自动保存训练过程中准确率大于之前的神经网络模型\n",
    "    if (accuracy_rate_train + accuracy_rate_cv > accuracy_rate_train_max + accuracy_rate_cv_max):\n",
    "        torch.save(net, model_auto_save_dir + \"model_auto_save_acc%d.pth\" %accuracy_rate_cv)\n",
    "        accuracy_rate_train_max = accuracy_rate_train # 记录最大训练准确率\n",
    "        accuracy_rate_cv_max = accuracy_rate_cv # 记录最大训练准确率\n",
    "\n",
    "#########################结束训练########################\n",
    "print(\"-------------------------------训练完成-------------------------------\")"
   ]
  },
  {
   "cell_type": "code",
   "execution_count": 32,
   "id": "430ab5b6",
   "metadata": {},
   "outputs": [
    {
     "name": "stdout",
     "output_type": "stream",
     "text": [
      "---------损失函数Loss随训练轮数epoch的变化图像---------\n"
     ]
    },
    {
     "data": {
      "image/png": "[encoded data removed]",
      "text/plain": [
       "<Figure size 640x480 with 1 Axes>"
      ]
     },
     "metadata": {},
     "output_type": "display_data"
    },
    {
     "name": "stdout",
     "output_type": "stream",
     "text": [
      "---------准确率accuracy随训练轮数epoch的变化图像---------\n"
     ]
    },
    {
     "data": {
      "image/png": "[encoded data removed]",
      "text/plain": [
       "<Figure size 640x480 with 1 Axes>"
      ]
     },
     "metadata": {},
     "output_type": "display_data"
    }
   ],
   "source": [
    "# 画出loss曲线\n",
    "print(\"---------损失函数Loss随训练轮数epoch的变化图像---------\")\n",
    "plt.plot(np.arange(epoch), loss_train_store, np.arange(epoch), loss_cv_store)\n",
    "plt.xlabel(\"epoch\")\n",
    "plt.ylabel(\"loss\")\n",
    "plt.legend([\"loss train\", \"loss cv\"])\n",
    "plt.title(\"loss curve\")\n",
    "plt.show()\n",
    "\n",
    "# 画出accuracy曲线\n",
    "print(\"---------准确率accuracy随训练轮数epoch的变化图像---------\")\n",
    "plt.plot(np.arange(epoch), accuracy_rate_train_store, np.arange(epoch), accuracy_rate_cv_store)\n",
    "plt.xlabel(\"epoch\")\n",
    "plt.ylabel(\"accuracy rate\")\n",
    "plt.legend([\"accuracy rate train\", \"accuracy rate cv\"])\n",
    "plt.title(\"accuracy rate curve\")\n",
    "plt.show()"
   ]
  },
  {
   "cell_type": "code",
   "execution_count": 33,
   "id": "71c96d85",
   "metadata": {},
   "outputs": [],
   "source": [
    "# 自定义等级量化函数\n",
    "def quantize_weights(model, int_min=-7, int_max=7):\n",
    "    \"\"\"\n",
    "    将模型权重量化为指定整数范围\n",
    "    Args:\n",
    "        model: PyTorch模型\n",
    "        int_min: 最小整数值 (默认-7)\n",
    "        int_max: 最大整数值 (默认7)\n",
    "    Returns:\n",
    "        量化后的模型\n",
    "    \"\"\"\n",
    "\n",
    "    with torch.no_grad():\n",
    "        for name, param in model.named_parameters():\n",
    "            # 计算权重的绝对最大值\n",
    "            max_abs = torch.max(torch.abs(param.data))\n",
    "            \n",
    "            # 计算缩放因子，将最大值映射到 int_max\n",
    "            scale = int_max / max_abs\n",
    "            \n",
    "            # 缩放、四舍五入、截断到指定范围\n",
    "            quantized = torch.round(param.data * scale)\n",
    "            quantized = torch.clamp(quantized, min=int_min, max=int_max)\n",
    "            \n",
    "            # 替换原始权重（确保更新）\n",
    "            param.data.copy_(quantized)\n",
    "\n",
    "    print(\"量化完成！\")"
   ]
  },
  {
   "cell_type": "code",
   "execution_count": 34,
   "id": "68144fbd",
   "metadata": {},
   "outputs": [
    {
     "name": "stdout",
     "output_type": "stream",
     "text": [
      "原始hidden层权重\n",
      "tensor([[-0.3824,  0.0600,  0.4442, -0.3452],\n",
      "        [-0.1063, -1.7704,  3.4482,  4.0486],\n",
      "        [ 2.6673,  3.1705, -2.5806, -4.4557],\n",
      "        [-0.4787,  0.4956, -0.0105, -0.2292]], device='cuda:0')\n",
      "原始output层权重\n",
      "tensor([[ 0.4866, -3.6197,  4.2225,  0.0630],\n",
      "        [-0.3538,  0.5268,  2.4112, -0.0247],\n",
      "        [-0.3563,  3.3466, -6.4221, -0.0125]], device='cuda:0')\n"
     ]
    }
   ],
   "source": [
    "# 加载某一轮训练的模型\n",
    "# net = torch.load(\"model_save/auto_save/model_auto_save_acc100.pth\")\n",
    "# net = torch.load(\"model_save/history_save/model_save_acc93_original.pth\")\n",
    "\n",
    "# 输出原始linear_1层权重\n",
    "print(\"原始hidden层权重\")\n",
    "print(net.hidden.weight.data)\n",
    "\n",
    "# 输出原始output层权重\n",
    "print(\"原始output层权重\")\n",
    "print(net.output.weight.data)"
   ]
  },
  {
   "cell_type": "code",
   "execution_count": 35,
   "id": "b73a90ac",
   "metadata": {},
   "outputs": [
    {
     "name": "stdout",
     "output_type": "stream",
     "text": [
      "量化完成！\n"
     ]
    }
   ],
   "source": [
    "# 量化\n",
    "quantize_weights(net, int_min=-7, int_max=7)"
   ]
  },
  {
   "cell_type": "code",
   "execution_count": 37,
   "id": "1b0753a8",
   "metadata": {},
   "outputs": [
    {
     "name": "stdout",
     "output_type": "stream",
     "text": [
      "量化后hidden层权重\n",
      "tensor([[-1.,  0.,  1., -1.],\n",
      "        [-0., -3.,  5.,  6.],\n",
      "        [ 4.,  5., -4., -7.],\n",
      "        [-1.,  1., -0., -0.]], device='cuda:0')\n",
      "量化后output层权重\n",
      "tensor([[ 1., -4.,  5.,  0.],\n",
      "        [-0.,  1.,  3., -0.],\n",
      "        [-0.,  4., -7., -0.]], device='cuda:0')\n"
     ]
    }
   ],
   "source": [
    "# 输出量化后linear_1层权重\n",
    "print(\"量化后hidden层权重\")\n",
    "print(net.hidden.weight.data)\n",
    "\n",
    "# 输出量化后linear_2层权重\n",
    "print(\"量化后output层权重\")\n",
    "print(net.output.weight.data)"
   ]
  },
  {
   "cell_type": "code",
   "execution_count": 84,
   "id": "cc92be93",
   "metadata": {},
   "outputs": [
    {
     "name": "stdout",
     "output_type": "stream",
     "text": [
      "输出结果 tensor([0, 0, 0, 0, 0, 0, 0, 0, 0, 0, 1, 1, 1, 1, 1, 1, 1, 1, 1, 1, 2, 2, 2, 2,\n",
      "        2, 2, 2, 2, 2, 2], device='cuda:0')\n",
      "原始标签 tensor([0, 0, 0, 0, 0, 0, 0, 0, 0, 0, 1, 1, 1, 1, 1, 1, 1, 1, 1, 1, 2, 2, 2, 2,\n",
      "        2, 2, 2, 2, 2, 2], device='cuda:0')\n",
      "模型预测正确数 30 模型测试总数 30\n",
      "模型预测准确率: 100.00%\n"
     ]
    }
   ],
   "source": [
    "# 加载某一轮训练的模型进行预测\n",
    "# net = torch.load(\"model_save/auto_save/model_auto_save_acc100.pth\")\n",
    "# net = torch.load(\"model_save/history_save/model_save_acc100_quantized.pth\")\n",
    "\n",
    "# 开始使用神经网络预测\n",
    "net.eval()\n",
    "# 总测试次数\n",
    "test_step = 0\n",
    "# 统计准确性\n",
    "accuracy = 0\n",
    "with torch.no_grad(): # 预测阶段不进行梯度下降\n",
    "    for data in test_dataloader:\n",
    "        inputs, labels = data\n",
    "        inputs = inputs.to(device) # 将数据转换\n",
    "        labels = labels.to(device) # 将数据转换\n",
    "\n",
    "        # 输入神经网络并运行\n",
    "        output = net(inputs)\n",
    "\n",
    "        # 将分类概率转化为对应标签\n",
    "        pred_label = output.argmax(1)\n",
    "        # 每1次输出结果\n",
    "        if (test_step%1==0):\n",
    "            print(\"输出结果\", pred_label)\n",
    "            print(\"原始标签\", labels)\n",
    "        # 累加计算结果准确性\n",
    "        accuracy += (pred_label == labels).sum()\n",
    "        test_step += 1\n",
    "\n",
    "accuracy_rate = accuracy/test_dataset_size\n",
    "print(\"模型预测正确数\", accuracy.item(), \"模型测试总数\", test_dataset_size)\n",
    "print(\"模型预测准确率: %.2f%%\" %(accuracy_rate.item()*100))"
   ]
  },
  {
   "cell_type": "code",
   "execution_count": 88,
   "id": "d3e82616",
   "metadata": {},
   "outputs": [
    {
     "name": "stdout",
     "output_type": "stream",
     "text": [
      "原始数据tensor([1.0000, 0.7000, 0.2600, 0.0600], device='cuda:0'), label: 0\n",
      "output=tensor([ 74.3600,  50.9000, -95.2400], device='cuda:0')\n",
      "输出结果 tensor(0, device='cuda:0')\n"
     ]
    }
   ],
   "source": [
    "# 取出单个数据进行预测\n",
    "\n",
    "# 载入原始数据\n",
    "# 加载测试集中的单张图片\n",
    "net.eval()\n",
    "\n",
    "# 加载测试集中的单个数据\n",
    "index = 0\n",
    "input, label = test_dataset[index]\n",
    "input = input.to(device) # 将数据转换\n",
    "label = label.to(device) # 将数据转换\n",
    "print(f\"原始数据{input}, label: {label}\")\n",
    "\n",
    "# 开始使用神经网络预测\n",
    "net.eval()\n",
    "with torch.no_grad(): # 预测阶段不进行梯度下降\n",
    "    # 输入神经网络并运行\n",
    "    output = net(input)\n",
    "    # 将分类概率转化为对应标签\n",
    "    pred_label = output.argmax(0)\n",
    "\n",
    "    print(f\"output={output}\")\n",
    "    print(\"输出结果\", pred_label)"
   ]
  },
  {
   "cell_type": "code",
   "execution_count": null,
   "id": "f8cd3707",
   "metadata": {},
   "outputs": [],
   "source": [
    "# 保存神经网络模型\n",
    "# torch.save(net, \"model_save/history_save/model_save_acc.pth\")\n",
    "# print(\"模型已保存\")"
   ]
  },
  {
   "cell_type": "code",
   "execution_count": 90,
   "id": "978f3306",
   "metadata": {},
   "outputs": [
    {
     "name": "stdout",
     "output_type": "stream",
     "text": [
      "Net(\n",
      "  (hidden): Linear(in_features=4, out_features=4, bias=False)\n",
      "  (relu): ReLU()\n",
      "  (output): Linear(in_features=4, out_features=3, bias=False)\n",
      ")\n",
      "mynet.hidden.weight Parameter containing:\n",
      "tensor([[ 1., -4.,  6.,  5.],\n",
      "        [ 5.,  4., -5., -7.],\n",
      "        [ 7.,  5., -5., -6.],\n",
      "        [ 1., -4.,  5.,  4.]], device='cuda:0', requires_grad=True)\n",
      "mynet.hidden.weight torch.Size([4, 4])\n",
      "mynet.output.weight Parameter containing:\n",
      "tensor([[-4.,  5.,  5., -5.],\n",
      "        [ 1.,  4.,  3.,  0.],\n",
      "        [ 6., -7., -6.,  6.]], device='cuda:0', requires_grad=True)\n",
      "mynet.output.weight torch.Size([3, 4])\n"
     ]
    }
   ],
   "source": [
    "# 查看网络参数\n",
    "print(net)\n",
    "net.named_parameters()\n",
    "for name, param in net.named_parameters(prefix=\"mynet\"):\n",
    "    print(name, param)\n",
    "    print(name, param.size())"
   ]
  },
  {
   "cell_type": "code",
   "execution_count": 302,
   "id": "aad52548",
   "metadata": {},
   "outputs": [],
   "source": [
    "# 清除显存\n",
    "torch.cuda.empty_cache()"
   ]
  }
 ],
 "metadata": {
  "kernelspec": {
   "display_name": "pytorch_zzy",
   "language": "python",
   "name": "python3"
  },
  "language_info": {
   "codemirror_mode": {
    "name": "ipython",
    "version": 3
   },
   "file_extension": ".py",
   "mimetype": "text/x-python",
   "name": "python",
   "nbconvert_exporter": "python",
   "pygments_lexer": "ipython3",
   "version": "3.10.15"
  }
 },
 "nbformat": 4,
 "nbformat_minor": 5
}
